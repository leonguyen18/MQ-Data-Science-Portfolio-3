{
  "nbformat": 4,
  "nbformat_minor": 0,
  "metadata": {
    "colab": {
      "provenance": []
    },
    "kernelspec": {
      "name": "python3",
      "display_name": "Python 3"
    },
    "language_info": {
      "name": "python"
    }
  },
  "cells": [
    {
      "cell_type": "markdown",
      "source": [
        "# Portfolio Part 3 - Analysis of Mobile Price Data (2024 S1)"
      ],
      "metadata": {
        "id": "n0ZKqZaTWkpg"
      }
    },
    {
      "cell_type": "markdown",
      "source": [
        "In this Portfolio task, you will work on a new dataset named 'Mobile Price Data', it contains numerous details about mobile phone hardware, specifications, and prices. Your main task is to train classification models to predict **mobile phone prices** ('price range' in the dataset)and evaluate the strengths and weaknesses of these models."
      ],
      "metadata": {
        "id": "O9R7rVmlXaMX"
      }
    },
    {
      "cell_type": "markdown",
      "source": [
        "Here's the explanation of each column:"
      ],
      "metadata": {
        "id": "zHC8wWkVZVBG"
      }
    },
    {
      "cell_type": "markdown",
      "source": [
        "|Column|Meaning|\n",
        "|:-----:|:-----:|\n",
        "|battery power|Total energy a battery can store in one time measured in mAh|\n",
        "|blue|Has bluetooth or not|\n",
        "|clock speed|speed at which microprocessor executes instructions|\n",
        "|dual sim|Has dual sim support or not|\n",
        "|fc|Front Camera mega pixels|\n",
        "|four g|Has 4G or not|\n",
        "|int memory|Internal Memory in Gigabytes|\n",
        "|m dep|Mobile Depth in cm|\n",
        "|mobile wt|Weight of mobile phone|\n",
        "|n cores|Number of cores of processor|\n",
        "|pc|Primary Camera mega pixels|\n",
        "|px height|Pixel Resolution Height|\n",
        "|px width|Pixel Resolution Width|\n",
        "|ram|Random Access Memory in Mega Bytes|\n",
        "|sc h|Screen Height of mobile in cm|\n",
        "|sc w|Screen Width of mobile in cm|\n",
        "|talk time|longest time that a single battery charge will last when you are|\n",
        "|three g|Has 3G or not|\n",
        "|touch screen|Has touch screen or not|\n",
        "|wifi|Has wifi or not|\n",
        "|price range|This is the target variable with value of 0(low cost), 1(medium cost), 2(high cost) and 3(very high cost)|"
      ],
      "metadata": {
        "id": "_O1tyfN3ZvE-"
      }
    },
    {
      "cell_type": "markdown",
      "source": [
        "Blue, dual sim, four g, three g, touch screen, and wifi are all binary attributes, 0 for not and 1 for yes."
      ],
      "metadata": {
        "id": "fmFqaGooclqa"
      }
    },
    {
      "cell_type": "markdown",
      "source": [
        "Your high level goal in this notebook is to build and evaluate predictive models for 'price range' from other available features. More specifically, you need to **complete the following major steps**:\n",
        "\n",
        "1. ***Explore the data*** and ***clean the data if necessary***. For example, remove abnormal instanaces and replace missing values.\n",
        "\n",
        "2. ***Study the correlation*** between 'price range' with other features. And ***select the variables*** that you think are helpful for predicting the price range. We do not limit the number of variables.\n",
        "\n",
        "3. ***Split the dataset*** (Trainging set : Test set = 8 : 2)\n",
        "\n",
        "4. ***Train a logistic regression model*** to predict 'price range' based on the selected features (from the second step). ***Calculate the accuracy*** of your model. (You are required to report the accuracy from both training set and test set.) ***Explain your model and evaluate its performance*** (Is the model performing well? If yes, what factors might be contributing to the good performance of your model? If not, how can improvements be made?).\n",
        "\n",
        "5. ***Train a KNN model*** to predict 'price range' based on the selected features (you can use the features selected from the second step and set K with an ad-hoc manner in this step. ***Calculate the accuracy*** of your model. (You are required to report the accuracy from both training set and test set.)\n",
        "\n",
        "6. ***Tune the hyper-parameter K*** in KNN (Hints: GridsearchCV), ***visualize the results***, and ***explain*** how K influences the prediction performance.\n",
        "\n",
        "  Hints for visualization: You can use line chart to visualize K and mean accuracy scores on test set."
      ],
      "metadata": {
        "id": "o0VDQbC-es_8"
      }
    },
    {
      "cell_type": "markdown",
      "source": [
        "Note 1: In this assignment, we no longer provide specific guidance and templates for each sub task. You should learn how to properly comment your notebook by yourself to make your notebook file readable.\n",
        "\n",
        "Note 2: You will not being evaluated on the accuracy of the model but on the process that you use to generate it and your explanation."
      ],
      "metadata": {
        "id": "RAcIxzIldzSZ"
      }
    },
    {
      "cell_type": "code",
      "execution_count": null,
      "metadata": {
        "id": "UpCBB45NV0p_"
      },
      "outputs": [],
      "source": []
    }
  ]
}